# -*- coding: utf-8 -*-
"""
Created on Fri Mar  5 12:51:58 2021

@author: Harry
"""

import numpy as np
from numpy import random

length = 60
cars = 20
time = 20
probability_slow_down = 0.2
maximum_velocity = 5

def create_road(length, cars):
    road = np.full(shape=length, fill_value=-1, dtype=np.int)
    counter = 0
    all_positions = np.array([])
    while counter < cars:
        position = random.randint(length)
        if position not in all_positions[:]:
            road[position] = random.randint(1, 6)
            counter += 1
        all_positions = np.append(all_positions, position)
    return road

def space_infront(road, car_velocity, position): 
    if car_velocity == -1:
        return 0
    else:
        distance_counter = 0
        found_car = 0
        while found_car == 0:
            distance_counter += 1
            try:
                if road[position + distance_counter] >= 0:
                    found_car = 1
            except IndexError:
                found_car = 1
                return 5

        return distance_counter

def acceleration_phase(road, maximum_velocity):
    for position, car_velocity in enumerate(road[:]):
        if -1 < car_velocity < 5 and space_infront(road, car_velocity, position) > (car_velocity + 1):
            road[position] = road[position] + 1
    return road

def slowing_phase(road):
    for position, car_velocity in enumerate(road[:]):
        if space_infront(road, car_velocity, position) <= car_velocity:
            road[position] = space_infront(road, car_velocity, position) - 1
    return road

def randomise_phase(road, probability_slow_down):
    for position, car_velocity in enumerate(road[:]):
        if car_velocity > 0:
            if np.random.uniform(0, 1) < probability_slow_down:
                road[position] = road[position] - 1
    return road

def moving_phase(road):
    new_road = np.full(shape=length, fill_value=-1, dtype=np.int) #First creates an empty road.
   # probability_new_car = cars/length
  #  if np.random.uniform(0, 1) < probability_new_car: #Continues to spawn cars at some density
  #      new_road[0] = random.randint(1, 6)
 #   else:
    new_road[0] = -1
    for position, car_velocity in enumerate(road[:]):
        try:
            if car_velocity >= 0:
                new_road[position + car_velocity] = road[position]
        except IndexError:
            print("Car left")

    return new_road

def main(length, cars, time, maximum_velocity, probability_slow_down):
    road = create_road(length, cars) #This makes the initial road setup. 
    t = 0
    all_roads = np.array([]) #This array is used to store all of the roads (after every movement)
    all_roads = np.append(all_roads, road) #Adds the initial road.
    while t < time:
        accelerated_road = acceleration_phase(road, maximum_velocity)
        slowed_road = slowing_phase(accelerated_road)
        randomised_road = randomise_phase(slowed_road, probability_slow_down)
        final_road = moving_phase(randomised_road)
        all_roads = np.vstack((all_roads, final_road))
        t += 1
        road = final_road
    return all_roads

data = main(length, cars, time, maximum_velocity, probability_slow_down)

print(data)